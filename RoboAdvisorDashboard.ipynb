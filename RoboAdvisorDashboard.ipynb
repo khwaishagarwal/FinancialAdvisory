{
 "cells": [
  {
   "cell_type": "code",
   "execution_count": 222,
   "id": "2e1b2a0b-19e3-482d-81f7-4bf320134127",
   "metadata": {
    "scrolled": true
   },
   "outputs": [
    {
     "name": "stdout",
     "output_type": "stream",
     "text": [
      "Requirement already satisfied: dash in /opt/anaconda3/lib/python3.11/site-packages (2.17.1)\n",
      "Requirement already satisfied: Flask<3.1,>=1.0.4 in /opt/anaconda3/lib/python3.11/site-packages (from dash) (2.2.5)\n",
      "Requirement already satisfied: Werkzeug<3.1 in /opt/anaconda3/lib/python3.11/site-packages (from dash) (3.0.3)\n",
      "Requirement already satisfied: plotly>=5.0.0 in /opt/anaconda3/lib/python3.11/site-packages (from dash) (5.9.0)\n",
      "Requirement already satisfied: dash-html-components==2.0.0 in /opt/anaconda3/lib/python3.11/site-packages (from dash) (2.0.0)\n",
      "Requirement already satisfied: dash-core-components==2.0.0 in /opt/anaconda3/lib/python3.11/site-packages (from dash) (2.0.0)\n",
      "Requirement already satisfied: dash-table==5.0.0 in /opt/anaconda3/lib/python3.11/site-packages (from dash) (5.0.0)\n",
      "Requirement already satisfied: importlib-metadata in /opt/anaconda3/lib/python3.11/site-packages (from dash) (7.0.1)\n",
      "Requirement already satisfied: typing-extensions>=4.1.1 in /opt/anaconda3/lib/python3.11/site-packages (from dash) (4.9.0)\n",
      "Requirement already satisfied: requests in /opt/anaconda3/lib/python3.11/site-packages (from dash) (2.31.0)\n",
      "Requirement already satisfied: retrying in /opt/anaconda3/lib/python3.11/site-packages (from dash) (1.3.4)\n",
      "Requirement already satisfied: nest-asyncio in /opt/anaconda3/lib/python3.11/site-packages (from dash) (1.6.0)\n",
      "Requirement already satisfied: setuptools in /opt/anaconda3/lib/python3.11/site-packages (from dash) (70.1.1)\n",
      "Requirement already satisfied: Jinja2>=3.0 in /opt/anaconda3/lib/python3.11/site-packages (from Flask<3.1,>=1.0.4->dash) (3.1.3)\n",
      "Requirement already satisfied: itsdangerous>=2.0 in /opt/anaconda3/lib/python3.11/site-packages (from Flask<3.1,>=1.0.4->dash) (2.0.1)\n",
      "Requirement already satisfied: click>=8.0 in /opt/anaconda3/lib/python3.11/site-packages (from Flask<3.1,>=1.0.4->dash) (8.1.7)\n",
      "Requirement already satisfied: tenacity>=6.2.0 in /opt/anaconda3/lib/python3.11/site-packages (from plotly>=5.0.0->dash) (8.2.2)\n",
      "Requirement already satisfied: MarkupSafe>=2.1.1 in /opt/anaconda3/lib/python3.11/site-packages (from Werkzeug<3.1->dash) (2.1.3)\n",
      "Requirement already satisfied: zipp>=0.5 in /opt/anaconda3/lib/python3.11/site-packages (from importlib-metadata->dash) (3.17.0)\n",
      "Requirement already satisfied: charset-normalizer<4,>=2 in /opt/anaconda3/lib/python3.11/site-packages (from requests->dash) (2.0.4)\n",
      "Requirement already satisfied: idna<4,>=2.5 in /opt/anaconda3/lib/python3.11/site-packages (from requests->dash) (3.4)\n",
      "Requirement already satisfied: urllib3<3,>=1.21.1 in /opt/anaconda3/lib/python3.11/site-packages (from requests->dash) (2.0.7)\n",
      "Requirement already satisfied: certifi>=2017.4.17 in /opt/anaconda3/lib/python3.11/site-packages (from requests->dash) (2024.6.2)\n",
      "Requirement already satisfied: six>=1.7.0 in /opt/anaconda3/lib/python3.11/site-packages (from retrying->dash) (1.16.0)\n",
      "Requirement already satisfied: dash-core-components in /opt/anaconda3/lib/python3.11/site-packages (2.0.0)\n",
      "Requirement already satisfied: dash-html-components in /opt/anaconda3/lib/python3.11/site-packages (2.0.0)\n",
      "Requirement already satisfied: dash-daq in /opt/anaconda3/lib/python3.11/site-packages (0.4.0)\n",
      "Requirement already satisfied: dash>=1.6.1 in /opt/anaconda3/lib/python3.11/site-packages (from dash-daq) (2.17.1)\n",
      "Requirement already satisfied: Flask<3.1,>=1.0.4 in /opt/anaconda3/lib/python3.11/site-packages (from dash>=1.6.1->dash-daq) (2.2.5)\n",
      "Requirement already satisfied: Werkzeug<3.1 in /opt/anaconda3/lib/python3.11/site-packages (from dash>=1.6.1->dash-daq) (3.0.3)\n",
      "Requirement already satisfied: plotly>=5.0.0 in /opt/anaconda3/lib/python3.11/site-packages (from dash>=1.6.1->dash-daq) (5.9.0)\n",
      "Requirement already satisfied: dash-html-components==2.0.0 in /opt/anaconda3/lib/python3.11/site-packages (from dash>=1.6.1->dash-daq) (2.0.0)\n",
      "Requirement already satisfied: dash-core-components==2.0.0 in /opt/anaconda3/lib/python3.11/site-packages (from dash>=1.6.1->dash-daq) (2.0.0)\n",
      "Requirement already satisfied: dash-table==5.0.0 in /opt/anaconda3/lib/python3.11/site-packages (from dash>=1.6.1->dash-daq) (5.0.0)\n",
      "Requirement already satisfied: importlib-metadata in /opt/anaconda3/lib/python3.11/site-packages (from dash>=1.6.1->dash-daq) (7.0.1)\n",
      "Requirement already satisfied: typing-extensions>=4.1.1 in /opt/anaconda3/lib/python3.11/site-packages (from dash>=1.6.1->dash-daq) (4.9.0)\n",
      "Requirement already satisfied: requests in /opt/anaconda3/lib/python3.11/site-packages (from dash>=1.6.1->dash-daq) (2.31.0)\n",
      "Requirement already satisfied: retrying in /opt/anaconda3/lib/python3.11/site-packages (from dash>=1.6.1->dash-daq) (1.3.4)\n",
      "Requirement already satisfied: nest-asyncio in /opt/anaconda3/lib/python3.11/site-packages (from dash>=1.6.1->dash-daq) (1.6.0)\n",
      "Requirement already satisfied: setuptools in /opt/anaconda3/lib/python3.11/site-packages (from dash>=1.6.1->dash-daq) (70.1.1)\n",
      "Requirement already satisfied: Jinja2>=3.0 in /opt/anaconda3/lib/python3.11/site-packages (from Flask<3.1,>=1.0.4->dash>=1.6.1->dash-daq) (3.1.3)\n",
      "Requirement already satisfied: itsdangerous>=2.0 in /opt/anaconda3/lib/python3.11/site-packages (from Flask<3.1,>=1.0.4->dash>=1.6.1->dash-daq) (2.0.1)\n",
      "Requirement already satisfied: click>=8.0 in /opt/anaconda3/lib/python3.11/site-packages (from Flask<3.1,>=1.0.4->dash>=1.6.1->dash-daq) (8.1.7)\n",
      "Requirement already satisfied: tenacity>=6.2.0 in /opt/anaconda3/lib/python3.11/site-packages (from plotly>=5.0.0->dash>=1.6.1->dash-daq) (8.2.2)\n",
      "Requirement already satisfied: MarkupSafe>=2.1.1 in /opt/anaconda3/lib/python3.11/site-packages (from Werkzeug<3.1->dash>=1.6.1->dash-daq) (2.1.3)\n",
      "Requirement already satisfied: zipp>=0.5 in /opt/anaconda3/lib/python3.11/site-packages (from importlib-metadata->dash>=1.6.1->dash-daq) (3.17.0)\n",
      "Requirement already satisfied: charset-normalizer<4,>=2 in /opt/anaconda3/lib/python3.11/site-packages (from requests->dash>=1.6.1->dash-daq) (2.0.4)\n",
      "Requirement already satisfied: idna<4,>=2.5 in /opt/anaconda3/lib/python3.11/site-packages (from requests->dash>=1.6.1->dash-daq) (3.4)\n",
      "Requirement already satisfied: urllib3<3,>=1.21.1 in /opt/anaconda3/lib/python3.11/site-packages (from requests->dash>=1.6.1->dash-daq) (2.0.7)\n",
      "Requirement already satisfied: certifi>=2017.4.17 in /opt/anaconda3/lib/python3.11/site-packages (from requests->dash>=1.6.1->dash-daq) (2024.6.2)\n",
      "Requirement already satisfied: six>=1.7.0 in /opt/anaconda3/lib/python3.11/site-packages (from retrying->dash>=1.6.1->dash-daq) (1.16.0)\n",
      "Requirement already satisfied: cvxopt in /opt/anaconda3/lib/python3.11/site-packages (1.3.2)\n"
     ]
    }
   ],
   "source": [
    "import pkg_resources\n",
    "import pip\n",
    "installedPackages = {pkg.key for pkg in pkg_resources.working_set}\n",
    "required = {'dash', 'dash-core-components', 'dash-html-components', 'dash-daq', 'cvxopt' }\n",
    "missing = required - installedPackages\n",
    "if missing:\n",
    "    !pip install dash\n",
    "    !pip install dash-core-components\n",
    "    !pip install dash-html-components\n",
    "    !pip install dash-daq\n",
    "    !pip install cvxopt"
   ]
  },
  {
   "cell_type": "code",
   "execution_count": 223,
   "id": "4a4eb050-943f-4f29-9afd-9c74061564b2",
   "metadata": {
    "scrolled": true
   },
   "outputs": [
    {
     "name": "stdout",
     "output_type": "stream",
     "text": [
      "Requirement already satisfied: dash in /opt/anaconda3/lib/python3.11/site-packages (2.17.1)\n",
      "Requirement already satisfied: Flask<3.1,>=1.0.4 in /opt/anaconda3/lib/python3.11/site-packages (from dash) (2.2.5)\n",
      "Requirement already satisfied: Werkzeug<3.1 in /opt/anaconda3/lib/python3.11/site-packages (from dash) (3.0.3)\n",
      "Requirement already satisfied: plotly>=5.0.0 in /opt/anaconda3/lib/python3.11/site-packages (from dash) (5.9.0)\n",
      "Requirement already satisfied: dash-html-components==2.0.0 in /opt/anaconda3/lib/python3.11/site-packages (from dash) (2.0.0)\n",
      "Requirement already satisfied: dash-core-components==2.0.0 in /opt/anaconda3/lib/python3.11/site-packages (from dash) (2.0.0)\n",
      "Requirement already satisfied: dash-table==5.0.0 in /opt/anaconda3/lib/python3.11/site-packages (from dash) (5.0.0)\n",
      "Requirement already satisfied: importlib-metadata in /opt/anaconda3/lib/python3.11/site-packages (from dash) (7.0.1)\n",
      "Requirement already satisfied: typing-extensions>=4.1.1 in /opt/anaconda3/lib/python3.11/site-packages (from dash) (4.9.0)\n",
      "Requirement already satisfied: requests in /opt/anaconda3/lib/python3.11/site-packages (from dash) (2.31.0)\n",
      "Requirement already satisfied: retrying in /opt/anaconda3/lib/python3.11/site-packages (from dash) (1.3.4)\n",
      "Requirement already satisfied: nest-asyncio in /opt/anaconda3/lib/python3.11/site-packages (from dash) (1.6.0)\n",
      "Requirement already satisfied: setuptools in /opt/anaconda3/lib/python3.11/site-packages (from dash) (70.1.1)\n",
      "Requirement already satisfied: Jinja2>=3.0 in /opt/anaconda3/lib/python3.11/site-packages (from Flask<3.1,>=1.0.4->dash) (3.1.3)\n",
      "Requirement already satisfied: itsdangerous>=2.0 in /opt/anaconda3/lib/python3.11/site-packages (from Flask<3.1,>=1.0.4->dash) (2.0.1)\n",
      "Requirement already satisfied: click>=8.0 in /opt/anaconda3/lib/python3.11/site-packages (from Flask<3.1,>=1.0.4->dash) (8.1.7)\n",
      "Requirement already satisfied: tenacity>=6.2.0 in /opt/anaconda3/lib/python3.11/site-packages (from plotly>=5.0.0->dash) (8.2.2)\n",
      "Requirement already satisfied: MarkupSafe>=2.1.1 in /opt/anaconda3/lib/python3.11/site-packages (from Werkzeug<3.1->dash) (2.1.3)\n",
      "Requirement already satisfied: zipp>=0.5 in /opt/anaconda3/lib/python3.11/site-packages (from importlib-metadata->dash) (3.17.0)\n",
      "Requirement already satisfied: charset-normalizer<4,>=2 in /opt/anaconda3/lib/python3.11/site-packages (from requests->dash) (2.0.4)\n",
      "Requirement already satisfied: idna<4,>=2.5 in /opt/anaconda3/lib/python3.11/site-packages (from requests->dash) (3.4)\n",
      "Requirement already satisfied: urllib3<3,>=1.21.1 in /opt/anaconda3/lib/python3.11/site-packages (from requests->dash) (2.0.7)\n",
      "Requirement already satisfied: certifi>=2017.4.17 in /opt/anaconda3/lib/python3.11/site-packages (from requests->dash) (2024.6.2)\n",
      "Requirement already satisfied: six>=1.7.0 in /opt/anaconda3/lib/python3.11/site-packages (from retrying->dash) (1.16.0)\n"
     ]
    }
   ],
   "source": [
    "!pip install --upgrade dash"
   ]
  },
  {
   "cell_type": "code",
   "execution_count": 224,
   "id": "c68af1d5-83b0-479a-8a70-df285fcdfcd3",
   "metadata": {},
   "outputs": [
    {
     "name": "stdout",
     "output_type": "stream",
     "text": [
      "Requirement already satisfied: Werkzeug in /opt/anaconda3/lib/python3.11/site-packages (3.0.3)\n",
      "Requirement already satisfied: MarkupSafe>=2.1.1 in /opt/anaconda3/lib/python3.11/site-packages (from Werkzeug) (2.1.3)\n"
     ]
    }
   ],
   "source": [
    "!pip install --upgrade Werkzeug"
   ]
  },
  {
   "cell_type": "code",
   "execution_count": 225,
   "id": "1efb5058-e395-4d0b-bc97-25c7e00c5043",
   "metadata": {},
   "outputs": [],
   "source": [
    "import dash\n",
    "from dash import dcc\n",
    "from dash import html\n",
    "from dash.dependencies import Input,Output,State\n",
    "import pandas as pd\n",
    "import numpy as np\n",
    "import plotly.graph_objs as go\n",
    "import dash_daq as daq\n",
    "from pickle import load"
   ]
  },
  {
   "cell_type": "code",
   "execution_count": 226,
   "id": "da8fde6d-06f7-48c5-b55a-ee2a0be24ea5",
   "metadata": {},
   "outputs": [],
   "source": [
    "import cvxopt as opt"
   ]
  },
  {
   "cell_type": "code",
   "execution_count": 228,
   "id": "a42d3ca7-8be6-4094-af03-88fd109229e2",
   "metadata": {},
   "outputs": [],
   "source": [
    "from cvxopt import blas, solvers"
   ]
  },
  {
   "cell_type": "markdown",
   "id": "e0401d7c-25b8-47df-9d73-fc4b3df7da9a",
   "metadata": {},
   "source": [
    "Load the data of the investors/individuals"
   ]
  },
  {
   "cell_type": "code",
   "execution_count": 230,
   "id": "7e942c7f-8bcd-4499-950f-e9c90d5f2c99",
   "metadata": {},
   "outputs": [
    {
     "data": {
      "text/html": [
       "<div>\n",
       "<style scoped>\n",
       "    .dataframe tbody tr th:only-of-type {\n",
       "        vertical-align: middle;\n",
       "    }\n",
       "\n",
       "    .dataframe tbody tr th {\n",
       "        vertical-align: top;\n",
       "    }\n",
       "\n",
       "    .dataframe thead th {\n",
       "        text-align: right;\n",
       "    }\n",
       "</style>\n",
       "<table border=\"1\" class=\"dataframe\">\n",
       "  <thead>\n",
       "    <tr style=\"text-align: right;\">\n",
       "      <th></th>\n",
       "      <th>AGE07</th>\n",
       "      <th>EDCL07</th>\n",
       "      <th>MARRIED07</th>\n",
       "      <th>KIDS07</th>\n",
       "      <th>LIFECL07</th>\n",
       "      <th>OCCAT107</th>\n",
       "      <th>INCOME07</th>\n",
       "      <th>RISK07</th>\n",
       "      <th>WSAVED07</th>\n",
       "      <th>SPENDMOR07</th>\n",
       "      <th>NETWORTH07</th>\n",
       "      <th>TrueRiskTol</th>\n",
       "    </tr>\n",
       "  </thead>\n",
       "  <tbody>\n",
       "    <tr>\n",
       "      <th>0</th>\n",
       "      <td>47</td>\n",
       "      <td>2</td>\n",
       "      <td>1</td>\n",
       "      <td>0</td>\n",
       "      <td>2</td>\n",
       "      <td>1</td>\n",
       "      <td>56443.744181</td>\n",
       "      <td>3</td>\n",
       "      <td>1</td>\n",
       "      <td>5</td>\n",
       "      <td>352641.7113</td>\n",
       "      <td>6.947439</td>\n",
       "    </tr>\n",
       "  </tbody>\n",
       "</table>\n",
       "</div>"
      ],
      "text/plain": [
       "   AGE07  EDCL07  MARRIED07  KIDS07  LIFECL07  OCCAT107      INCOME07  RISK07  \\\n",
       "0     47       2          1       0         2         1  56443.744181       3   \n",
       "\n",
       "   WSAVED07  SPENDMOR07   NETWORTH07  TrueRiskTol  \n",
       "0         1           5  352641.7113     6.947439  "
      ]
     },
     "execution_count": 230,
     "metadata": {},
     "output_type": "execute_result"
    }
   ],
   "source": [
    "investors = pd.read_csv('InputData.csv', index_col = 0 )\n",
    "investors.head(1)"
   ]
  },
  {
   "cell_type": "markdown",
   "id": "8f427c03-d087-42be-925e-704cf4532167",
   "metadata": {},
   "source": [
    "Load the market data and clean the data"
   ]
  },
  {
   "cell_type": "code",
   "execution_count": 233,
   "id": "a91199c4-394b-4420-9185-ff6239943bac",
   "metadata": {},
   "outputs": [
    {
     "name": "stdout",
     "output_type": "stream",
     "text": [
      "CTVA    0.781250\n",
      "DOW     0.678571\n",
      "FOX     0.667411\n",
      "FOXA    0.665179\n",
      "NOV     0.000000\n",
      "MSI     0.000000\n",
      "MSCI    0.000000\n",
      "MYL     0.000000\n",
      "NDAQ    0.000000\n",
      "ABT     0.000000\n",
      "dtype: float64\n",
      "(448, 498)\n",
      "                  ABT       ABBV        ABMD         ACN       ATVI  \\\n",
      "Date                                                                  \n",
      "2018-01-02  58.790001  98.410004  192.490005  153.839996  64.309998   \n",
      "2018-01-03  58.919998  99.949997  195.820007  154.550003  65.309998   \n",
      "\n",
      "                  ADBE    AMD         AAP    AES         AMG  ...        WLTW  \\\n",
      "Date                                                          ...               \n",
      "2018-01-02  177.699997  10.98  106.089996  10.88  203.039993  ...  146.990005   \n",
      "2018-01-03  181.039993  11.55  107.050003  10.87  202.119995  ...  149.740005   \n",
      "\n",
      "                  WYNN        XEL        XRX       XLNX        XYL        YUM  \\\n",
      "Date                                                                            \n",
      "2018-01-02  164.300003  47.810001  29.370001  67.879997  68.070000  81.599998   \n",
      "2018-01-03  162.520004  47.490002  29.330000  69.239998  68.900002  81.529999   \n",
      "\n",
      "                   ZBH       ZION        ZTS  \n",
      "Date                                          \n",
      "2018-01-02  124.059998  50.700001  71.769997  \n",
      "2018-01-03  124.919998  50.639999  72.099998  \n",
      "\n",
      "[2 rows x 498 columns]\n"
     ]
    }
   ],
   "source": [
    "assets = pd.read_csv('SP500Data.csv', index_col=0)\n",
    "missing_fractions = assets.isnull().mean().sort_values(ascending=False)\n",
    "print(missing_fractions.head(10))\n",
    "drop_list = sorted(list(missing_fractions[missing_fractions > 0.3].index))\n",
    "assets.drop(labels=drop_list, axis=1, inplace=True)\n",
    "print(assets.shape)\n",
    "assets = assets.ffill()\n",
    "print(assets.head(2))"
   ]
  },
  {
   "cell_type": "code",
   "execution_count": 234,
   "id": "7539ea26-1bf2-4500-8608-aafe1f78c504",
   "metadata": {},
   "outputs": [],
   "source": [
    "options=np.array(assets.columns)\n",
    "options = []\n",
    "for tic in assets.columns:\n",
    "    mydict = {}\n",
    "    mydict['label'] = tic \n",
    "    mydict['value'] = tic\n",
    "    options.append(mydict)"
   ]
  },
  {
   "cell_type": "code",
   "execution_count": 235,
   "id": "0ba3d2ea-4f6d-4e6d-8ec6-91682910f8d8",
   "metadata": {},
   "outputs": [
    {
     "name": "stdout",
     "output_type": "stream",
     "text": [
      "{'label': 'ZTS', 'value': 'ZTS'}\n"
     ]
    }
   ],
   "source": [
    "print(mydict)"
   ]
  },
  {
   "cell_type": "code",
   "execution_count": 236,
   "id": "cd5b234e-270c-4fb3-bae3-9ab5dc451e98",
   "metadata": {},
   "outputs": [
    {
     "name": "stdout",
     "output_type": "stream",
     "text": [
      "[{'label': 'ABT', 'value': 'ABT'}, {'label': 'ABBV', 'value': 'ABBV'}, {'label': 'ABMD', 'value': 'ABMD'}, {'label': 'ACN', 'value': 'ACN'}, {'label': 'ATVI', 'value': 'ATVI'}, {'label': 'ADBE', 'value': 'ADBE'}, {'label': 'AMD', 'value': 'AMD'}, {'label': 'AAP', 'value': 'AAP'}, {'label': 'AES', 'value': 'AES'}, {'label': 'AMG', 'value': 'AMG'}, {'label': 'AFL', 'value': 'AFL'}, {'label': 'A', 'value': 'A'}, {'label': 'APD', 'value': 'APD'}, {'label': 'AKAM', 'value': 'AKAM'}, {'label': 'ALK', 'value': 'ALK'}, {'label': 'ALB', 'value': 'ALB'}, {'label': 'ARE', 'value': 'ARE'}, {'label': 'ALXN', 'value': 'ALXN'}, {'label': 'ALGN', 'value': 'ALGN'}, {'label': 'ALLE', 'value': 'ALLE'}, {'label': 'AGN', 'value': 'AGN'}, {'label': 'ADS', 'value': 'ADS'}, {'label': 'LNT', 'value': 'LNT'}, {'label': 'ALL', 'value': 'ALL'}, {'label': 'GOOGL', 'value': 'GOOGL'}, {'label': 'GOOG', 'value': 'GOOG'}, {'label': 'MO', 'value': 'MO'}, {'label': 'AMZN', 'value': 'AMZN'}, {'label': 'AMCR', 'value': 'AMCR'}, {'label': 'AEE', 'value': 'AEE'}, {'label': 'AAL', 'value': 'AAL'}, {'label': 'AEP', 'value': 'AEP'}, {'label': 'AXP', 'value': 'AXP'}, {'label': 'AIG', 'value': 'AIG'}, {'label': 'AMT', 'value': 'AMT'}, {'label': 'AWK', 'value': 'AWK'}, {'label': 'AMP', 'value': 'AMP'}, {'label': 'ABC', 'value': 'ABC'}, {'label': 'AME', 'value': 'AME'}, {'label': 'AMGN', 'value': 'AMGN'}, {'label': 'APH', 'value': 'APH'}, {'label': 'ADI', 'value': 'ADI'}, {'label': 'ANSS', 'value': 'ANSS'}, {'label': 'ANTM', 'value': 'ANTM'}, {'label': 'AON', 'value': 'AON'}, {'label': 'AOS', 'value': 'AOS'}, {'label': 'APA', 'value': 'APA'}, {'label': 'AIV', 'value': 'AIV'}, {'label': 'AAPL', 'value': 'AAPL'}, {'label': 'AMAT', 'value': 'AMAT'}, {'label': 'APTV', 'value': 'APTV'}, {'label': 'ADM', 'value': 'ADM'}, {'label': 'ARNC', 'value': 'ARNC'}, {'label': 'ANET', 'value': 'ANET'}, {'label': 'AJG', 'value': 'AJG'}, {'label': 'AIZ', 'value': 'AIZ'}, {'label': 'ATO', 'value': 'ATO'}, {'label': 'T', 'value': 'T'}, {'label': 'ADSK', 'value': 'ADSK'}, {'label': 'ADP', 'value': 'ADP'}, {'label': 'AZO', 'value': 'AZO'}, {'label': 'AVB', 'value': 'AVB'}, {'label': 'AVY', 'value': 'AVY'}, {'label': 'BHGE', 'value': 'BHGE'}, {'label': 'BLL', 'value': 'BLL'}, {'label': 'BAC', 'value': 'BAC'}, {'label': 'BK', 'value': 'BK'}, {'label': 'BAX', 'value': 'BAX'}, {'label': 'BBT', 'value': 'BBT'}, {'label': 'BDX', 'value': 'BDX'}, {'label': 'BBY', 'value': 'BBY'}, {'label': 'BIIB', 'value': 'BIIB'}, {'label': 'BLK', 'value': 'BLK'}, {'label': 'HRB', 'value': 'HRB'}, {'label': 'BA', 'value': 'BA'}, {'label': 'BKNG', 'value': 'BKNG'}, {'label': 'BWA', 'value': 'BWA'}, {'label': 'BXP', 'value': 'BXP'}, {'label': 'BSX', 'value': 'BSX'}, {'label': 'BMY', 'value': 'BMY'}, {'label': 'AVGO', 'value': 'AVGO'}, {'label': 'BR', 'value': 'BR'}, {'label': 'CHRW', 'value': 'CHRW'}, {'label': 'COG', 'value': 'COG'}, {'label': 'CDNS', 'value': 'CDNS'}, {'label': 'CPB', 'value': 'CPB'}, {'label': 'COF', 'value': 'COF'}, {'label': 'CPRI', 'value': 'CPRI'}, {'label': 'CAH', 'value': 'CAH'}, {'label': 'KMX', 'value': 'KMX'}, {'label': 'CCL', 'value': 'CCL'}, {'label': 'CAT', 'value': 'CAT'}, {'label': 'CBOE', 'value': 'CBOE'}, {'label': 'CBRE', 'value': 'CBRE'}, {'label': 'CBS', 'value': 'CBS'}, {'label': 'CDW', 'value': 'CDW'}, {'label': 'CE', 'value': 'CE'}, {'label': 'CELG', 'value': 'CELG'}, {'label': 'CNC', 'value': 'CNC'}, {'label': 'CNP', 'value': 'CNP'}, {'label': 'CTL', 'value': 'CTL'}, {'label': 'CERN', 'value': 'CERN'}, {'label': 'CF', 'value': 'CF'}, {'label': 'SCHW', 'value': 'SCHW'}, {'label': 'CHTR', 'value': 'CHTR'}, {'label': 'CVX', 'value': 'CVX'}, {'label': 'CMG', 'value': 'CMG'}, {'label': 'CB', 'value': 'CB'}, {'label': 'CHD', 'value': 'CHD'}, {'label': 'CI', 'value': 'CI'}, {'label': 'XEC', 'value': 'XEC'}, {'label': 'CINF', 'value': 'CINF'}, {'label': 'CTAS', 'value': 'CTAS'}, {'label': 'CSCO', 'value': 'CSCO'}, {'label': 'C', 'value': 'C'}, {'label': 'CFG', 'value': 'CFG'}, {'label': 'CTXS', 'value': 'CTXS'}, {'label': 'CLX', 'value': 'CLX'}, {'label': 'CME', 'value': 'CME'}, {'label': 'CMS', 'value': 'CMS'}, {'label': 'KO', 'value': 'KO'}, {'label': 'CTSH', 'value': 'CTSH'}, {'label': 'CL', 'value': 'CL'}, {'label': 'CMCSA', 'value': 'CMCSA'}, {'label': 'CMA', 'value': 'CMA'}, {'label': 'CAG', 'value': 'CAG'}, {'label': 'CXO', 'value': 'CXO'}, {'label': 'COP', 'value': 'COP'}, {'label': 'ED', 'value': 'ED'}, {'label': 'STZ', 'value': 'STZ'}, {'label': 'COO', 'value': 'COO'}, {'label': 'CPRT', 'value': 'CPRT'}, {'label': 'GLW', 'value': 'GLW'}, {'label': 'COST', 'value': 'COST'}, {'label': 'COTY', 'value': 'COTY'}, {'label': 'CCI', 'value': 'CCI'}, {'label': 'CSX', 'value': 'CSX'}, {'label': 'CMI', 'value': 'CMI'}, {'label': 'CVS', 'value': 'CVS'}, {'label': 'DHI', 'value': 'DHI'}, {'label': 'DHR', 'value': 'DHR'}, {'label': 'DRI', 'value': 'DRI'}, {'label': 'DVA', 'value': 'DVA'}, {'label': 'DE', 'value': 'DE'}, {'label': 'DAL', 'value': 'DAL'}, {'label': 'XRAY', 'value': 'XRAY'}, {'label': 'DVN', 'value': 'DVN'}, {'label': 'FANG', 'value': 'FANG'}, {'label': 'DLR', 'value': 'DLR'}, {'label': 'DFS', 'value': 'DFS'}, {'label': 'DISCA', 'value': 'DISCA'}, {'label': 'DISCK', 'value': 'DISCK'}, {'label': 'DISH', 'value': 'DISH'}, {'label': 'DG', 'value': 'DG'}, {'label': 'DLTR', 'value': 'DLTR'}, {'label': 'D', 'value': 'D'}, {'label': 'DOV', 'value': 'DOV'}, {'label': 'DTE', 'value': 'DTE'}, {'label': 'DUK', 'value': 'DUK'}, {'label': 'DRE', 'value': 'DRE'}, {'label': 'DD', 'value': 'DD'}, {'label': 'DXC', 'value': 'DXC'}, {'label': 'ETFC', 'value': 'ETFC'}, {'label': 'EMN', 'value': 'EMN'}, {'label': 'ETN', 'value': 'ETN'}, {'label': 'EBAY', 'value': 'EBAY'}, {'label': 'ECL', 'value': 'ECL'}, {'label': 'EIX', 'value': 'EIX'}, {'label': 'EW', 'value': 'EW'}, {'label': 'EA', 'value': 'EA'}, {'label': 'EMR', 'value': 'EMR'}, {'label': 'ETR', 'value': 'ETR'}, {'label': 'EOG', 'value': 'EOG'}, {'label': 'EFX', 'value': 'EFX'}, {'label': 'EQIX', 'value': 'EQIX'}, {'label': 'EQR', 'value': 'EQR'}, {'label': 'ESS', 'value': 'ESS'}, {'label': 'EL', 'value': 'EL'}, {'label': 'EVRG', 'value': 'EVRG'}, {'label': 'ES', 'value': 'ES'}, {'label': 'RE', 'value': 'RE'}, {'label': 'EXC', 'value': 'EXC'}, {'label': 'EXPE', 'value': 'EXPE'}, {'label': 'EXPD', 'value': 'EXPD'}, {'label': 'EXR', 'value': 'EXR'}, {'label': 'XOM', 'value': 'XOM'}, {'label': 'FFIV', 'value': 'FFIV'}, {'label': 'FB', 'value': 'FB'}, {'label': 'FAST', 'value': 'FAST'}, {'label': 'FRT', 'value': 'FRT'}, {'label': 'FDX', 'value': 'FDX'}, {'label': 'FIS', 'value': 'FIS'}, {'label': 'FITB', 'value': 'FITB'}, {'label': 'FE', 'value': 'FE'}, {'label': 'FRC', 'value': 'FRC'}, {'label': 'FISV', 'value': 'FISV'}, {'label': 'FLT', 'value': 'FLT'}, {'label': 'FLIR', 'value': 'FLIR'}, {'label': 'FLS', 'value': 'FLS'}, {'label': 'FMC', 'value': 'FMC'}, {'label': 'F', 'value': 'F'}, {'label': 'FTNT', 'value': 'FTNT'}, {'label': 'FTV', 'value': 'FTV'}, {'label': 'FBHS', 'value': 'FBHS'}, {'label': 'BEN', 'value': 'BEN'}, {'label': 'FCX', 'value': 'FCX'}, {'label': 'GPS', 'value': 'GPS'}, {'label': 'GRMN', 'value': 'GRMN'}, {'label': 'IT', 'value': 'IT'}, {'label': 'GD', 'value': 'GD'}, {'label': 'GE', 'value': 'GE'}, {'label': 'GIS', 'value': 'GIS'}, {'label': 'GM', 'value': 'GM'}, {'label': 'GPC', 'value': 'GPC'}, {'label': 'GILD', 'value': 'GILD'}, {'label': 'GL', 'value': 'GL'}, {'label': 'GPN', 'value': 'GPN'}, {'label': 'GS', 'value': 'GS'}, {'label': 'GWW', 'value': 'GWW'}, {'label': 'HAL', 'value': 'HAL'}, {'label': 'HBI', 'value': 'HBI'}, {'label': 'HOG', 'value': 'HOG'}, {'label': 'HIG', 'value': 'HIG'}, {'label': 'HAS', 'value': 'HAS'}, {'label': 'HCA', 'value': 'HCA'}, {'label': 'HCP', 'value': 'HCP'}, {'label': 'HP', 'value': 'HP'}, {'label': 'HSIC', 'value': 'HSIC'}, {'label': 'HSY', 'value': 'HSY'}, {'label': 'HES', 'value': 'HES'}, {'label': 'HPE', 'value': 'HPE'}, {'label': 'HLT', 'value': 'HLT'}, {'label': 'HFC', 'value': 'HFC'}, {'label': 'HOLX', 'value': 'HOLX'}, {'label': 'HD', 'value': 'HD'}, {'label': 'HON', 'value': 'HON'}, {'label': 'HRL', 'value': 'HRL'}, {'label': 'HST', 'value': 'HST'}, {'label': 'HPQ', 'value': 'HPQ'}, {'label': 'HUM', 'value': 'HUM'}, {'label': 'HBAN', 'value': 'HBAN'}, {'label': 'HII', 'value': 'HII'}, {'label': 'IEX', 'value': 'IEX'}, {'label': 'IDXX', 'value': 'IDXX'}, {'label': 'INFO', 'value': 'INFO'}, {'label': 'ITW', 'value': 'ITW'}, {'label': 'ILMN', 'value': 'ILMN'}, {'label': 'IR', 'value': 'IR'}, {'label': 'INTC', 'value': 'INTC'}, {'label': 'ICE', 'value': 'ICE'}, {'label': 'IBM', 'value': 'IBM'}, {'label': 'INCY', 'value': 'INCY'}, {'label': 'IP', 'value': 'IP'}, {'label': 'IPG', 'value': 'IPG'}, {'label': 'IFF', 'value': 'IFF'}, {'label': 'INTU', 'value': 'INTU'}, {'label': 'ISRG', 'value': 'ISRG'}, {'label': 'IVZ', 'value': 'IVZ'}, {'label': 'IPGP', 'value': 'IPGP'}, {'label': 'IQV', 'value': 'IQV'}, {'label': 'IRM', 'value': 'IRM'}, {'label': 'JKHY', 'value': 'JKHY'}, {'label': 'JEC', 'value': 'JEC'}, {'label': 'JBHT', 'value': 'JBHT'}, {'label': 'SJM', 'value': 'SJM'}, {'label': 'JNJ', 'value': 'JNJ'}, {'label': 'JCI', 'value': 'JCI'}, {'label': 'JPM', 'value': 'JPM'}, {'label': 'JNPR', 'value': 'JNPR'}, {'label': 'KSU', 'value': 'KSU'}, {'label': 'K', 'value': 'K'}, {'label': 'KEY', 'value': 'KEY'}, {'label': 'KEYS', 'value': 'KEYS'}, {'label': 'KMB', 'value': 'KMB'}, {'label': 'KIM', 'value': 'KIM'}, {'label': 'KMI', 'value': 'KMI'}, {'label': 'KLAC', 'value': 'KLAC'}, {'label': 'KSS', 'value': 'KSS'}, {'label': 'KHC', 'value': 'KHC'}, {'label': 'KR', 'value': 'KR'}, {'label': 'LB', 'value': 'LB'}, {'label': 'LHX', 'value': 'LHX'}, {'label': 'LH', 'value': 'LH'}, {'label': 'LRCX', 'value': 'LRCX'}, {'label': 'LW', 'value': 'LW'}, {'label': 'LVS', 'value': 'LVS'}, {'label': 'LEG', 'value': 'LEG'}, {'label': 'LDOS', 'value': 'LDOS'}, {'label': 'LEN', 'value': 'LEN'}, {'label': 'LLY', 'value': 'LLY'}, {'label': 'LNC', 'value': 'LNC'}, {'label': 'LIN', 'value': 'LIN'}, {'label': 'LKQ', 'value': 'LKQ'}, {'label': 'LMT', 'value': 'LMT'}, {'label': 'L', 'value': 'L'}, {'label': 'LOW', 'value': 'LOW'}, {'label': 'LYB', 'value': 'LYB'}, {'label': 'MTB', 'value': 'MTB'}, {'label': 'MAC', 'value': 'MAC'}, {'label': 'M', 'value': 'M'}, {'label': 'MRO', 'value': 'MRO'}, {'label': 'MPC', 'value': 'MPC'}, {'label': 'MKTX', 'value': 'MKTX'}, {'label': 'MAR', 'value': 'MAR'}, {'label': 'MMC', 'value': 'MMC'}, {'label': 'MLM', 'value': 'MLM'}, {'label': 'MAS', 'value': 'MAS'}, {'label': 'MA', 'value': 'MA'}, {'label': 'MKC', 'value': 'MKC'}, {'label': 'MXIM', 'value': 'MXIM'}, {'label': 'MCD', 'value': 'MCD'}, {'label': 'MCK', 'value': 'MCK'}, {'label': 'MDT', 'value': 'MDT'}, {'label': 'MRK', 'value': 'MRK'}, {'label': 'MET', 'value': 'MET'}, {'label': 'MTD', 'value': 'MTD'}, {'label': 'MGM', 'value': 'MGM'}, {'label': 'MCHP', 'value': 'MCHP'}, {'label': 'MU', 'value': 'MU'}, {'label': 'MSFT', 'value': 'MSFT'}, {'label': 'MAA', 'value': 'MAA'}, {'label': 'MHK', 'value': 'MHK'}, {'label': 'TAP', 'value': 'TAP'}, {'label': 'MDLZ', 'value': 'MDLZ'}, {'label': 'MNST', 'value': 'MNST'}, {'label': 'MCO', 'value': 'MCO'}, {'label': 'MS', 'value': 'MS'}, {'label': 'MOS', 'value': 'MOS'}, {'label': 'MSI', 'value': 'MSI'}, {'label': 'MSCI', 'value': 'MSCI'}, {'label': 'MYL', 'value': 'MYL'}, {'label': 'NDAQ', 'value': 'NDAQ'}, {'label': 'NOV', 'value': 'NOV'}, {'label': 'NTAP', 'value': 'NTAP'}, {'label': 'NFLX', 'value': 'NFLX'}, {'label': 'NWL', 'value': 'NWL'}, {'label': 'NEM', 'value': 'NEM'}, {'label': 'NWSA', 'value': 'NWSA'}, {'label': 'NWS', 'value': 'NWS'}, {'label': 'NEE', 'value': 'NEE'}, {'label': 'NLSN', 'value': 'NLSN'}, {'label': 'NKE', 'value': 'NKE'}, {'label': 'NI', 'value': 'NI'}, {'label': 'NBL', 'value': 'NBL'}, {'label': 'JWN', 'value': 'JWN'}, {'label': 'NSC', 'value': 'NSC'}, {'label': 'NTRS', 'value': 'NTRS'}, {'label': 'NOC', 'value': 'NOC'}, {'label': 'NCLH', 'value': 'NCLH'}, {'label': 'NRG', 'value': 'NRG'}, {'label': 'NUE', 'value': 'NUE'}, {'label': 'NVDA', 'value': 'NVDA'}, {'label': 'NVR', 'value': 'NVR'}, {'label': 'ORLY', 'value': 'ORLY'}, {'label': 'OXY', 'value': 'OXY'}, {'label': 'OMC', 'value': 'OMC'}, {'label': 'OKE', 'value': 'OKE'}, {'label': 'ORCL', 'value': 'ORCL'}, {'label': 'PCAR', 'value': 'PCAR'}, {'label': 'PKG', 'value': 'PKG'}, {'label': 'PH', 'value': 'PH'}, {'label': 'PAYX', 'value': 'PAYX'}, {'label': 'PYPL', 'value': 'PYPL'}, {'label': 'PNR', 'value': 'PNR'}, {'label': 'PBCT', 'value': 'PBCT'}, {'label': 'PEP', 'value': 'PEP'}, {'label': 'PKI', 'value': 'PKI'}, {'label': 'PRGO', 'value': 'PRGO'}, {'label': 'PFE', 'value': 'PFE'}, {'label': 'PM', 'value': 'PM'}, {'label': 'PSX', 'value': 'PSX'}, {'label': 'PNW', 'value': 'PNW'}, {'label': 'PXD', 'value': 'PXD'}, {'label': 'PNC', 'value': 'PNC'}, {'label': 'PPG', 'value': 'PPG'}, {'label': 'PPL', 'value': 'PPL'}, {'label': 'PFG', 'value': 'PFG'}, {'label': 'PG', 'value': 'PG'}, {'label': 'PGR', 'value': 'PGR'}, {'label': 'PLD', 'value': 'PLD'}, {'label': 'PRU', 'value': 'PRU'}, {'label': 'PEG', 'value': 'PEG'}, {'label': 'PSA', 'value': 'PSA'}, {'label': 'PHM', 'value': 'PHM'}, {'label': 'PVH', 'value': 'PVH'}, {'label': 'QRVO', 'value': 'QRVO'}, {'label': 'PWR', 'value': 'PWR'}, {'label': 'QCOM', 'value': 'QCOM'}, {'label': 'DGX', 'value': 'DGX'}, {'label': 'RL', 'value': 'RL'}, {'label': 'RJF', 'value': 'RJF'}, {'label': 'RTN', 'value': 'RTN'}, {'label': 'O', 'value': 'O'}, {'label': 'REG', 'value': 'REG'}, {'label': 'REGN', 'value': 'REGN'}, {'label': 'RF', 'value': 'RF'}, {'label': 'RSG', 'value': 'RSG'}, {'label': 'RMD', 'value': 'RMD'}, {'label': 'RHI', 'value': 'RHI'}, {'label': 'ROK', 'value': 'ROK'}, {'label': 'ROL', 'value': 'ROL'}, {'label': 'ROP', 'value': 'ROP'}, {'label': 'ROST', 'value': 'ROST'}, {'label': 'RCL', 'value': 'RCL'}, {'label': 'CRM', 'value': 'CRM'}, {'label': 'SBAC', 'value': 'SBAC'}, {'label': 'SLB', 'value': 'SLB'}, {'label': 'STX', 'value': 'STX'}, {'label': 'SEE', 'value': 'SEE'}, {'label': 'SRE', 'value': 'SRE'}, {'label': 'SHW', 'value': 'SHW'}, {'label': 'SPG', 'value': 'SPG'}, {'label': 'SWKS', 'value': 'SWKS'}, {'label': 'SLG', 'value': 'SLG'}, {'label': 'SNA', 'value': 'SNA'}, {'label': 'SO', 'value': 'SO'}, {'label': 'LUV', 'value': 'LUV'}, {'label': 'SPGI', 'value': 'SPGI'}, {'label': 'SWK', 'value': 'SWK'}, {'label': 'SBUX', 'value': 'SBUX'}, {'label': 'STT', 'value': 'STT'}, {'label': 'SYK', 'value': 'SYK'}, {'label': 'STI', 'value': 'STI'}, {'label': 'SIVB', 'value': 'SIVB'}, {'label': 'SYMC', 'value': 'SYMC'}, {'label': 'SYF', 'value': 'SYF'}, {'label': 'SNPS', 'value': 'SNPS'}, {'label': 'SYY', 'value': 'SYY'}, {'label': 'TMUS', 'value': 'TMUS'}, {'label': 'TROW', 'value': 'TROW'}, {'label': 'TTWO', 'value': 'TTWO'}, {'label': 'TPR', 'value': 'TPR'}, {'label': 'TGT', 'value': 'TGT'}, {'label': 'TEL', 'value': 'TEL'}, {'label': 'FTI', 'value': 'FTI'}, {'label': 'TFX', 'value': 'TFX'}, {'label': 'TXN', 'value': 'TXN'}, {'label': 'TXT', 'value': 'TXT'}, {'label': 'TMO', 'value': 'TMO'}, {'label': 'TIF', 'value': 'TIF'}, {'label': 'TWTR', 'value': 'TWTR'}, {'label': 'TJX', 'value': 'TJX'}, {'label': 'TSCO', 'value': 'TSCO'}, {'label': 'TDG', 'value': 'TDG'}, {'label': 'TRV', 'value': 'TRV'}, {'label': 'TRIP', 'value': 'TRIP'}, {'label': 'TSN', 'value': 'TSN'}, {'label': 'UDR', 'value': 'UDR'}, {'label': 'ULTA', 'value': 'ULTA'}, {'label': 'USB', 'value': 'USB'}, {'label': 'UAA', 'value': 'UAA'}, {'label': 'UA', 'value': 'UA'}, {'label': 'UNP', 'value': 'UNP'}, {'label': 'UAL', 'value': 'UAL'}, {'label': 'UNH', 'value': 'UNH'}, {'label': 'UPS', 'value': 'UPS'}, {'label': 'URI', 'value': 'URI'}, {'label': 'UTX', 'value': 'UTX'}, {'label': 'UHS', 'value': 'UHS'}, {'label': 'UNM', 'value': 'UNM'}, {'label': 'VFC', 'value': 'VFC'}, {'label': 'VLO', 'value': 'VLO'}, {'label': 'VAR', 'value': 'VAR'}, {'label': 'VTR', 'value': 'VTR'}, {'label': 'VRSN', 'value': 'VRSN'}, {'label': 'VRSK', 'value': 'VRSK'}, {'label': 'VZ', 'value': 'VZ'}, {'label': 'VRTX', 'value': 'VRTX'}, {'label': 'VIAB', 'value': 'VIAB'}, {'label': 'V', 'value': 'V'}, {'label': 'VNO', 'value': 'VNO'}, {'label': 'VMC', 'value': 'VMC'}, {'label': 'WAB', 'value': 'WAB'}, {'label': 'WMT', 'value': 'WMT'}, {'label': 'WBA', 'value': 'WBA'}, {'label': 'DIS', 'value': 'DIS'}, {'label': 'WM', 'value': 'WM'}, {'label': 'WAT', 'value': 'WAT'}, {'label': 'WEC', 'value': 'WEC'}, {'label': 'WCG', 'value': 'WCG'}, {'label': 'WFC', 'value': 'WFC'}, {'label': 'WELL', 'value': 'WELL'}, {'label': 'WDC', 'value': 'WDC'}, {'label': 'WU', 'value': 'WU'}, {'label': 'WRK', 'value': 'WRK'}, {'label': 'WY', 'value': 'WY'}, {'label': 'WHR', 'value': 'WHR'}, {'label': 'WMB', 'value': 'WMB'}, {'label': 'WLTW', 'value': 'WLTW'}, {'label': 'WYNN', 'value': 'WYNN'}, {'label': 'XEL', 'value': 'XEL'}, {'label': 'XRX', 'value': 'XRX'}, {'label': 'XLNX', 'value': 'XLNX'}, {'label': 'XYL', 'value': 'XYL'}, {'label': 'YUM', 'value': 'YUM'}, {'label': 'ZBH', 'value': 'ZBH'}, {'label': 'ZION', 'value': 'ZION'}, {'label': 'ZTS', 'value': 'ZTS'}]\n"
     ]
    }
   ],
   "source": [
    "print(options)"
   ]
  },
  {
   "cell_type": "raw",
   "id": "bf096fb3-ec10-4b5f-992b-74f025b16fb0",
   "metadata": {},
   "source": []
  },
  {
   "cell_type": "markdown",
   "id": "bb992af1-18dd-457b-b816-f2583f79ea81",
   "metadata": {},
   "source": [
    "Code for the dashboard Interface"
   ]
  },
  {
   "cell_type": "code",
   "execution_count": 242,
   "id": "d1253528-1eec-4122-acbe-737e03dbb5b8",
   "metadata": {},
   "outputs": [],
   "source": [
    "app = dash.Dash(__name__, external_stylesheets=['https://codepen.io/chriddyp/pen/bWLwgP.css'])"
   ]
  },
  {
   "cell_type": "code",
   "execution_count": 249,
   "id": "a6a25d22-4ca2-43b8-8333-e236034daee1",
   "metadata": {},
   "outputs": [],
   "source": [
    "app.layout = html.Div([\n",
    "    html.Div([ \n",
    "        html.Div([\n",
    "            html.H3(children='Robo Advisor Dashboard'),\n",
    "            html.Div([\n",
    "                html.H5(children='Step 1 : Enter Investor Characteristics '),            \n",
    "                ],style={'display': 'inline-block','vertical-align': 'top',  'width': '30%',\\\n",
    "                         'color':'black', 'background-color': 'LightGray'}), \n",
    "            html.Div([\n",
    "                html.H5(children='Step 2 : Asset Allocation and portfolio performance'),            \n",
    "                ],style={'display': 'inline-block', 'vertical-align': 'top',  \\\n",
    "                         'color':'white','horizontalAlign' : \"left\", 'width': '70%', 'background-color':'black'}), \n",
    "            ],style={'font-family': 'calibri'}),        \n",
    "         html.Div([   \n",
    "          html.Div([ \n",
    "            html.Label('Age:',style={'padding': 5}),\n",
    "            dcc.Slider(\n",
    "                id='Age',\n",
    "                min = investors['AGE07'].min(),\n",
    "                max = 70,\n",
    "                marks={ 25: '25',35: '35',45: '45',55: '55',70: '70'},              \n",
    "                value=25),   \n",
    "            #html.Br(),\n",
    "              html.Label('NetWorth:', style={'padding': 5}),\n",
    "            dcc.Slider(\n",
    "                id='Nwcat',\n",
    "                #min = investors['NETWORTH07'].min(), \n",
    "                min = -1000000, max = 3000000,\n",
    "                marks={-1000000: '-$1M',0: '0',500000: '$500K',1000000: '$1M',2000000: '$2M',},                \n",
    "                value=10000),\n",
    "            #html.Br(),\n",
    "            html.Label('Income:', style={'padding': 5}),\n",
    "            dcc.Slider(\n",
    "                id='Inccl',\n",
    "                #min = investors['INCOME07'].min(), max = investors['INCOME07'].max(),\n",
    "                min = -1000000,\n",
    "                max = 3000000,\n",
    "                marks={-1000000: '-$1M',0: '0',500000: '$500K',1000000: '$1M',2000000: '$2M',},\n",
    "                value=100000),\n",
    "           # html.Br(),\n",
    "            html.Label('Education Level (scale of 4):', style={'padding': 5}),\n",
    "            dcc.Slider(\n",
    "                id='Edu',\n",
    "                min = investors['EDCL07'].min(), max = investors['EDCL07'].max(),\n",
    "                marks={ 1: '1',2: '2',3: '3',4: '4'},\n",
    "                value=2), \n",
    "            #html.Br(),\n",
    "            html.Label('Married:', style={'padding': 5}),\n",
    "            dcc.Slider(\n",
    "                id='Married',\n",
    "                min = investors['MARRIED07'].min(), max = investors['MARRIED07'].max(),\n",
    "                marks={ 1: '1',2: '2'},\n",
    "                value=1), \n",
    "            #html.Br(),\n",
    "            html.Label('Kids:', style={'padding': 5}),\n",
    "            dcc.Slider(\n",
    "                id='Kids',\n",
    "                min = investors['KIDS07'].min(), max = investors['KIDS07'].max(),\n",
    "                #marks={ 1: '1',2: '2',3: '3',4: '4'},\n",
    "                marks=[{'label': j, 'value': j} for j in investors['KIDS07'].unique()],\n",
    "                value=3), \n",
    "            #html.Br(),\n",
    "              html.Label('Occupation:', style={'padding': 5}),\n",
    "            dcc.Slider(\n",
    "                id='Occ',\n",
    "                min = investors['OCCAT107'].min(), max = investors['OCCAT107'].max(),\n",
    "                marks={ 1: '1',2: '2',3: '3',4: '4'},\n",
    "                value=3),            \n",
    "            #html.Br(),\n",
    "            html.Label('Willingness to take Risk:', style={'padding': 5}),\n",
    "            dcc.Slider(\n",
    "                id='Risk',\n",
    "                min = investors['RISK07'].min(), max = investors['RISK07'].max(),\n",
    "                marks={ 1: '1',2: '2',3: '3',4: '4'},\n",
    "                value=3), \n",
    "            #html.Br(),\n",
    "            html.Button(id='investor_char_button',\n",
    "                            n_clicks = 0,\n",
    "                            children = 'Calculate Risk Tolerance',\n",
    "                            style = {'fontSize': 13, 'marginLeft': '30px', 'color' : 'white',\\\n",
    "                                     'horizontal-align': 'left','backgroundColor': 'grey'}),             \n",
    "            #html.Br(),            \n",
    "              ],style={'width': '80%'}),           \n",
    "            \n",
    "            ],style={'width': '30%', 'font-family': 'calibri','vertical-align': 'top','display': 'inline-block'\\\n",
    "                     }),\n",
    "#                     , \"border\":\".5px black solid\"}),\n",
    "    # ********************Risk Tolerance Charts********   \n",
    "        html.Div([    \n",
    "               #html.H5(children='Step 2 : Enter the Instruments for the allocation portfolio'),  \n",
    "        html.Div([\n",
    "            html.Div([ \n",
    "                html.Label('Risk Tolerance (scale of 100) :', style={'padding': 5}),\n",
    "                dcc.Input(id= 'risk-tolerance-text'),\n",
    "               \n",
    "                ],style={'width': '100%','font-family': 'calibri','vertical-align': 'top','display': 'inline-block'}),\n",
    "            html.Div([ \n",
    "                html.Label('Select the assets for the portfolio:', style={'padding': 5}),\n",
    "                dcc.Dropdown(\n",
    "                        id='ticker_symbol',\n",
    "                        options = options,\n",
    "                        value = ['GOOGL', 'FB', 'GS','MS','GE','MSFT'], \n",
    "                        multi = True\n",
    "                        # style={'fontSize': 24, 'width': 75}\n",
    "                        ),\n",
    "                html.Button(id='submit-asset_alloc_button',\n",
    "                            n_clicks = 0,\n",
    "                            children = 'Submit',\n",
    "                            style = {'fontSize': 13, 'marginLeft': '25px','color' : 'white', 'backgroundColor': 'grey'}\n",
    "                ), \n",
    "               ],style={'width': '100%','font-family': 'calibri','vertical-align': 'top','display': 'inline-block'}),\n",
    "            ],style={'width': '100%','display': 'inline-block','font-family': 'calibri','vertical-align': 'top'}),\n",
    "           html.Div([                \n",
    "                html.Div([\n",
    "                    dcc.Graph(id='Asset-Allocation'), \n",
    "                    ], style={'width': '50%', 'vertical-align': 'top', 'display': 'inline-block', \\\n",
    "                      'font-family': 'calibri', 'horizontal-align': 'right'}),\n",
    "                html.Div([\n",
    "                    dcc.Graph(id='Performance')\n",
    "                    ], style={'width': '50%', 'vertical-align': 'top', 'display': 'inline-block', \\\n",
    "                      'font-family': 'calibri', 'horizontal-align': 'right'}),\n",
    "                   ], style={'width': '100%', 'vertical-align': 'top', 'display': 'inline-block', \\\n",
    "                          'font-family': 'calibri', 'horizontal-align': 'right'}),          \n",
    "            ], style={'width': '70%','display': 'inline-block','font-family': 'calibri','vertical-align': 'top', 'horizontal-align': 'right'}),\n",
    "       ],style={'width': '70%','display': 'inline-block','font-family': 'calibri','vertical-align': 'top'}),               \n",
    "  ])    "
   ]
  },
  {
   "cell_type": "raw",
   "id": "ce4b9479-ac41-4fba-9bc5-fd5609c8279f",
   "metadata": {},
   "source": []
  },
  {
   "cell_type": "markdown",
   "id": "0ebe35f6-5bdf-4d45-87b2-7cb72558e8ab",
   "metadata": {},
   "source": [
    "Code for the underlying functions within the interface"
   ]
  },
  {
   "cell_type": "markdown",
   "id": "e89bafd3-ead2-41c7-ada5-d45634c47d88",
   "metadata": {},
   "source": [
    "The steps performed are as follows:\n",
    "1. Loading the regression model for predicting risk tolerance\n",
    "2. Using markovitz mean variance analysis for asset allocation\n",
    "3. Producing chart for the asset allocation and portfolio performance"
   ]
  },
  {
   "cell_type": "code",
   "execution_count": 253,
   "id": "58756476-1727-4638-8526-8125cf89825f",
   "metadata": {},
   "outputs": [],
   "source": [
    "def predict_riskTolerance(X_input):\n",
    "    filename = 'finalized_model_risk_tolerance.sav'\n",
    "    loaded_model = load(open(filename, 'rb'))\n",
    "    predictions = loaded_model.predict(X_input)\n",
    "    return predictions"
   ]
  },
  {
   "cell_type": "code",
   "execution_count": 255,
   "id": "626feaf6-70ce-4fed-9bc9-7d91f5e0eedb",
   "metadata": {},
   "outputs": [],
   "source": [
    "def get_asset_allocation(riskTolerance,stock_ticker):\n",
    "    assets_selected = assets.loc[:,stock_ticker]\n",
    "    return_vec = np.array(assets_selected.pct_change().dropna(axis=0)).T\n",
    "    n = len(return_vec)\n",
    "    returns = np.asmatrix(return_vec)\n",
    "    mus = 1-riskTolerance\n",
    "    S = opt.matrix(np.cov(return_vec))\n",
    "    pbar = opt.matrix(np.mean(return_vec, axis=1))\n",
    "    G = -opt.matrix(np.eye(n))  \n",
    "    h = opt.matrix(0.0, (n ,1))\n",
    "    A = opt.matrix(1.0, (1, n))\n",
    "    b = opt.matrix(1.0)\n",
    "    portfolios = solvers.qp(mus*S, -pbar, G, h, A, b)\n",
    "    w=portfolios['x'].T\n",
    "    print (w)\n",
    "    Alloc =  pd.DataFrame(data = np.array(portfolios['x']),index = assets_selected.columns)\n",
    "    portfolios = solvers.qp(mus*S, -pbar, G, h, A, b)\n",
    "    returns_final=(np.array(assets_selected) * np.array(w))\n",
    "    returns_sum = np.sum(returns_final,axis =1)\n",
    "    returns_sum_pd = pd.DataFrame(returns_sum, index = assets.index )\n",
    "    returns_sum_pd = returns_sum_pd - returns_sum_pd.iloc[0,:] + 100   \n",
    "    return Alloc,returns_sum_pd"
   ]
  },
  {
   "cell_type": "code",
   "execution_count": 257,
   "id": "532c5c75-a923-4240-b1b0-02d33678db93",
   "metadata": {},
   "outputs": [],
   "source": [
    "@app.callback(\n",
    "    [\n",
    "        Output('risk-tolerance-text', 'value')\n",
    "    ],\n",
    "    [\n",
    "        Input('investor_char_button', 'n_clicks'),\n",
    "        Input('Age', 'value'),\n",
    "        Input('Nwcat', 'value'),\n",
    "        Input('Inccl', 'value'),\n",
    "        Input('Risk', 'value'),\n",
    "        Input('Edu', 'value'),\n",
    "        Input('Married', 'value'),\n",
    "        Input('Kids', 'value'),\n",
    "        Input('Occ', 'value')\n",
    "    ]\n",
    ")\n",
    "\n",
    "def update_risk_tolerance(n_clicks,Age,Nwcat,Inccl,Risk,Edu,Married,Kids,Occ):\n",
    "    RiskTolerance = 0\n",
    "    if n_clicks != None:    \n",
    "        X_input = [[Age,Edu,Married,Kids,Occ,Inccl, Risk,Nwcat]]\n",
    "        RiskTolerance= predict_riskTolerance(X_input) \n",
    "    return list([round(float(RiskTolerance*100),2)])"
   ]
  },
  {
   "cell_type": "code",
   "execution_count": 259,
   "id": "f1e4f2f5-0929-4d58-91e3-0717cc6c6984",
   "metadata": {},
   "outputs": [],
   "source": [
    "@app.callback(\n",
    "    [\n",
    "        Output('Asset-Allocation', 'figure'),\n",
    "        Output('Performance', 'figure')\n",
    "    ],\n",
    "    [\n",
    "        Input('submit-asset_alloc_button', 'n_clicks'),\n",
    "        Input('risk-tolerance-text', 'value')\n",
    "    ], \n",
    "    [\n",
    "        State('ticker_symbol', 'value')\n",
    "    ]\n",
    ")\n",
    "\n",
    "def update_asset_allocationChart(n_clicks, risk_tolerance, stock_ticker):\n",
    "    Allocated, InvestmentReturn = get_asset_allocation(risk_tolerance,stock_ticker)  \n",
    "    return [{'data' : [go.Bar(\n",
    "                        x=Allocated.index,\n",
    "                        y=Allocated.iloc[:,0],\n",
    "                        marker=dict(color='red'),\n",
    "                    ),\n",
    "                    ],\n",
    "            'layout': {'title':\" Asset allocation - Mean-Variance Allocation\"}\n",
    "\n",
    "       },\n",
    "            {'data' : [go.Scatter(\n",
    "                        x=InvestmentReturn.index,\n",
    "                        y=InvestmentReturn.iloc[:,0],\n",
    "                        name = 'OEE (%)',\n",
    "                        marker=dict(color='red'),\n",
    "                    ),\n",
    "                    ],\n",
    "            'layout': {'title':\"Portfolio value of $100 investment\"}\n",
    "       }]"
   ]
  },
  {
   "cell_type": "code",
   "execution_count": 261,
   "id": "d2a750bd-eb2c-42f0-996e-1e50b9cda0a4",
   "metadata": {},
   "outputs": [
    {
     "data": {
      "text/html": [
       "\n",
       "        <iframe\n",
       "            width=\"100%\"\n",
       "            height=\"650\"\n",
       "            src=\"http://127.0.0.1:8050/\"\n",
       "            frameborder=\"0\"\n",
       "            allowfullscreen\n",
       "            \n",
       "        ></iframe>\n",
       "        "
      ],
      "text/plain": [
       "<IPython.lib.display.IFrame at 0x168b312d0>"
      ]
     },
     "metadata": {},
     "output_type": "display_data"
    }
   ],
   "source": [
    "if __name__ == '__main__':\n",
    "    app.run_server()"
   ]
  }
 ],
 "metadata": {
  "kernelspec": {
   "display_name": "Python 3 (ipykernel)",
   "language": "python",
   "name": "python3"
  },
  "language_info": {
   "codemirror_mode": {
    "name": "ipython",
    "version": 3
   },
   "file_extension": ".py",
   "mimetype": "text/x-python",
   "name": "python",
   "nbconvert_exporter": "python",
   "pygments_lexer": "ipython3",
   "version": "3.11.5"
  }
 },
 "nbformat": 4,
 "nbformat_minor": 5
}
